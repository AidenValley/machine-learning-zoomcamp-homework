{
 "cells": [
  {
   "cell_type": "code",
   "execution_count": 45,
   "id": "aeafd7cf-48ad-4a60-a1d0-118ce944167e",
   "metadata": {},
   "outputs": [],
   "source": [
    "import numpy as np\n",
    "import pandas as pd"
   ]
  },
  {
   "cell_type": "code",
   "execution_count": 46,
   "id": "cb5d3f6b-1ea2-48a4-9241-89d6c978e330",
   "metadata": {},
   "outputs": [
    {
     "name": "stdout",
     "output_type": "stream",
     "text": [
      "['engine_displacement', 'num_cylinders', 'horsepower', 'vehicle_weight', 'acceleration', 'model_year', 'origin', 'fuel_type', 'drivetrain', 'num_doors', 'fuel_efficiency_mpg']\n"
     ]
    }
   ],
   "source": [
    "df = pd.read_csv('https://raw.githubusercontent.com/alexeygrigorev/datasets/master/car_fuel_efficiency.csv')\n",
    "print(df.columns.tolist())"
   ]
  },
  {
   "cell_type": "code",
   "execution_count": 51,
   "id": "5eda0050-0db5-458d-b8ee-d723d38971a9",
   "metadata": {},
   "outputs": [],
   "source": [
    "FEATURE_MAP = {\n",
    "    'displacement': 'engine_displacement',\n",
    "    'weight': 'vehicle_weight',\n",
    "    'model year': 'model_year',\n",
    "}"
   ]
  },
  {
   "cell_type": "code",
   "execution_count": 50,
   "id": "68a050c1-84b2-4feb-be3f-4dcaf9546b09",
   "metadata": {},
   "outputs": [],
   "source": [
    "df.rename(columns=FEATURE_MAP, inplace=True)"
   ]
  },
  {
   "cell_type": "code",
   "execution_count": 39,
   "id": "0a4ad202-4cb9-41e9-8886-21179719585b",
   "metadata": {},
   "outputs": [],
   "source": [
    "df['horsepower'] = pd.to_numeric(df['horsepower'], errors='coerce')"
   ]
  },
  {
   "cell_type": "code",
   "execution_count": 40,
   "id": "7fc2d552-0cd9-401a-8979-58943c9e70a2",
   "metadata": {},
   "outputs": [
    {
     "data": {
      "text/html": [
       "<div>\n",
       "<style scoped>\n",
       "    .dataframe tbody tr th:only-of-type {\n",
       "        vertical-align: middle;\n",
       "    }\n",
       "\n",
       "    .dataframe tbody tr th {\n",
       "        vertical-align: top;\n",
       "    }\n",
       "\n",
       "    .dataframe thead th {\n",
       "        text-align: right;\n",
       "    }\n",
       "</style>\n",
       "<table border=\"1\" class=\"dataframe\">\n",
       "  <thead>\n",
       "    <tr style=\"text-align: right;\">\n",
       "      <th></th>\n",
       "      <th>engine_displacement</th>\n",
       "      <th>num_cylinders</th>\n",
       "      <th>horsepower</th>\n",
       "      <th>vehicle_weight</th>\n",
       "      <th>acceleration</th>\n",
       "      <th>model_year</th>\n",
       "      <th>origin</th>\n",
       "      <th>fuel_type</th>\n",
       "      <th>drivetrain</th>\n",
       "      <th>num_doors</th>\n",
       "      <th>fuel_efficiency_mpg</th>\n",
       "    </tr>\n",
       "  </thead>\n",
       "  <tbody>\n",
       "    <tr>\n",
       "      <th>0</th>\n",
       "      <td>170</td>\n",
       "      <td>3.0</td>\n",
       "      <td>159.0</td>\n",
       "      <td>3413.433759</td>\n",
       "      <td>17.7</td>\n",
       "      <td>2003</td>\n",
       "      <td>Europe</td>\n",
       "      <td>Gasoline</td>\n",
       "      <td>All-wheel drive</td>\n",
       "      <td>0.0</td>\n",
       "      <td>13.231729</td>\n",
       "    </tr>\n",
       "    <tr>\n",
       "      <th>1</th>\n",
       "      <td>130</td>\n",
       "      <td>5.0</td>\n",
       "      <td>97.0</td>\n",
       "      <td>3149.664934</td>\n",
       "      <td>17.8</td>\n",
       "      <td>2007</td>\n",
       "      <td>USA</td>\n",
       "      <td>Gasoline</td>\n",
       "      <td>Front-wheel drive</td>\n",
       "      <td>0.0</td>\n",
       "      <td>13.688217</td>\n",
       "    </tr>\n",
       "    <tr>\n",
       "      <th>2</th>\n",
       "      <td>170</td>\n",
       "      <td>NaN</td>\n",
       "      <td>78.0</td>\n",
       "      <td>3079.038997</td>\n",
       "      <td>15.1</td>\n",
       "      <td>2018</td>\n",
       "      <td>Europe</td>\n",
       "      <td>Gasoline</td>\n",
       "      <td>Front-wheel drive</td>\n",
       "      <td>0.0</td>\n",
       "      <td>14.246341</td>\n",
       "    </tr>\n",
       "    <tr>\n",
       "      <th>3</th>\n",
       "      <td>220</td>\n",
       "      <td>4.0</td>\n",
       "      <td>NaN</td>\n",
       "      <td>2542.392402</td>\n",
       "      <td>20.2</td>\n",
       "      <td>2009</td>\n",
       "      <td>USA</td>\n",
       "      <td>Diesel</td>\n",
       "      <td>All-wheel drive</td>\n",
       "      <td>2.0</td>\n",
       "      <td>16.912736</td>\n",
       "    </tr>\n",
       "    <tr>\n",
       "      <th>4</th>\n",
       "      <td>210</td>\n",
       "      <td>1.0</td>\n",
       "      <td>140.0</td>\n",
       "      <td>3460.870990</td>\n",
       "      <td>14.4</td>\n",
       "      <td>2009</td>\n",
       "      <td>Europe</td>\n",
       "      <td>Gasoline</td>\n",
       "      <td>All-wheel drive</td>\n",
       "      <td>2.0</td>\n",
       "      <td>12.488369</td>\n",
       "    </tr>\n",
       "  </tbody>\n",
       "</table>\n",
       "</div>"
      ],
      "text/plain": [
       "   engine_displacement  num_cylinders  horsepower  vehicle_weight  \\\n",
       "0                  170            3.0       159.0     3413.433759   \n",
       "1                  130            5.0        97.0     3149.664934   \n",
       "2                  170            NaN        78.0     3079.038997   \n",
       "3                  220            4.0         NaN     2542.392402   \n",
       "4                  210            1.0       140.0     3460.870990   \n",
       "\n",
       "   acceleration  model_year  origin fuel_type         drivetrain  num_doors  \\\n",
       "0          17.7        2003  Europe  Gasoline    All-wheel drive        0.0   \n",
       "1          17.8        2007     USA  Gasoline  Front-wheel drive        0.0   \n",
       "2          15.1        2018  Europe  Gasoline  Front-wheel drive        0.0   \n",
       "3          20.2        2009     USA    Diesel    All-wheel drive        2.0   \n",
       "4          14.4        2009  Europe  Gasoline    All-wheel drive        2.0   \n",
       "\n",
       "   fuel_efficiency_mpg  \n",
       "0            13.231729  \n",
       "1            13.688217  \n",
       "2            14.246341  \n",
       "3            16.912736  \n",
       "4            12.488369  "
      ]
     },
     "execution_count": 40,
     "metadata": {},
     "output_type": "execute_result"
    }
   ],
   "source": [
    "df.head()"
   ]
  },
  {
   "cell_type": "code",
   "execution_count": 52,
   "id": "cd0532fa-1dec-4721-8493-23601193eaab",
   "metadata": {},
   "outputs": [],
   "source": [
    "missing_counts = df[['engine_displacement', 'horsepower', 'vehicle_weight', 'model_year']].isna().sum()"
   ]
  },
  {
   "cell_type": "code",
   "execution_count": 53,
   "id": "fee936c8-6115-4d88-9d18-d7b816d8a18a",
   "metadata": {},
   "outputs": [],
   "source": [
    "q1_answer = missing_counts.idxmax() if missing_counts.max() > 0 else 'None'"
   ]
  },
  {
   "cell_type": "code",
   "execution_count": 54,
   "id": "01ac639c-e905-4263-8a3e-4976d215340c",
   "metadata": {},
   "outputs": [
    {
     "name": "stdout",
     "output_type": "stream",
     "text": [
      "Missing counts:\n",
      " engine_displacement      0\n",
      "horsepower             708\n",
      "vehicle_weight           0\n",
      "model_year               0\n",
      "dtype: int64\n",
      "\n",
      "[Q1] Column with missing values: horsepower\n"
     ]
    }
   ],
   "source": [
    "print(\"Missing counts:\\n\", missing_counts)\n",
    "print(\"\\n[Q1] Column with missing values:\", q1_answer)"
   ]
  },
  {
   "cell_type": "code",
   "execution_count": 55,
   "id": "9b97d44a-d603-40d4-a8fb-069c1d241ea7",
   "metadata": {},
   "outputs": [],
   "source": [
    "hp_median = float(df['horsepower'].median())"
   ]
  },
  {
   "cell_type": "code",
   "execution_count": 56,
   "id": "3992fe49-0205-457c-b4d0-17ce1cda2f50",
   "metadata": {},
   "outputs": [],
   "source": [
    "options_q2 = np.array([49, 99, 149, 199], dtype=float)"
   ]
  },
  {
   "cell_type": "code",
   "execution_count": 57,
   "id": "35787f9a-749a-4e69-a8ed-416df9683fca",
   "metadata": {},
   "outputs": [],
   "source": [
    "q2_nearest = float(options_q2[np.argmin(np.abs(options_q2 - hp_median))])"
   ]
  },
  {
   "cell_type": "code",
   "execution_count": 58,
   "id": "d2ee05b8-8b06-433a-9ae5-889748537d36",
   "metadata": {},
   "outputs": [
    {
     "name": "stdout",
     "output_type": "stream",
     "text": [
      "horsepower median (raw): 149.0\n",
      "[Q2] Nearest option: 149.0\n"
     ]
    }
   ],
   "source": [
    "print(\"horsepower median (raw):\", round(hp_median, 0))\n",
    "print(\"[Q2] Nearest option:\", q2_nearest)"
   ]
  },
  {
   "cell_type": "code",
   "execution_count": 60,
   "id": "566e8d26-dbcd-4c50-b6fa-e06055597b1c",
   "metadata": {},
   "outputs": [],
   "source": [
    "def train_val_test_split(df_in, seed, val_frac=0.2, test_frac=0.2):\n",
    "    n = len(df_in)\n",
    "    n_val = int(n * val_frac)\n",
    "    n_test = int(n * test_frac)\n",
    "    n_train = n - n_val - n_test\n",
    "\n",
    "    idx = np.arange(n)\n",
    "    rng = np.random.default_rng(seed)\n",
    "    rng.shuffle(idx)\n",
    "\n",
    "    df_train = df_in.iloc[idx[:n_train]].reset_index(drop=True)\n",
    "    df_val   = df_in.iloc[idx[n_train:n_train+n_val]].reset_index(drop=True)\n",
    "    df_test  = df_in.iloc[idx[n_train+n_val:]].reset_index(drop=True)\n",
    "    return df_train, df_val, df_test"
   ]
  },
  {
   "cell_type": "code",
   "execution_count": 61,
   "id": "200dfb1d-d953-4b02-ad31-332f7a18f51f",
   "metadata": {},
   "outputs": [],
   "source": [
    "def fill_missing(df_part, how='mean'):\n",
    "    out = df_part.copy()\n",
    "    if how == 'mean':\n",
    "        mean_hp = out['horsepower'].mean()\n",
    "        out['horsepower'] = out['horsepower'].fillna(mean_hp)\n",
    "    elif how == 'zero':\n",
    "        out['horsepower'] = out['horsepower'].fillna(0.0)\n",
    "    else:\n",
    "        raise ValueError(\"how must be 'mean' or 'zero'\")\n",
    "    return out"
   ]
  },
  {
   "cell_type": "code",
   "execution_count": 62,
   "id": "2c108370-0e42-4365-a3e4-9eb950fcfe73",
   "metadata": {},
   "outputs": [],
   "source": [
    "def feature_matrix(df_part):\n",
    "    X = df_part[['engine_displacement', 'horsepower', 'vehicle_weight', 'model_year']].values.astype(float)\n",
    "    ones = np.ones((X.shape[0], 1))\n",
    "    return np.hstack([ones, X])  # add bias"
   ]
  },
  {
   "cell_type": "code",
   "execution_count": 63,
   "id": "6017de6a-5b02-41cf-ae82-c63e732de8c5",
   "metadata": {},
   "outputs": [],
   "source": [
    "def target_vector(df_part):\n",
    "    return df_part['mpg'].values.astype(float)"
   ]
  },
  {
   "cell_type": "code",
   "execution_count": 64,
   "id": "e8c4cb93-f4af-48b9-8131-821bacb07a46",
   "metadata": {},
   "outputs": [],
   "source": [
    "def linear_regression_fit(X, y, r=0.0):\n",
    "    # Normal equation with optional ridge: (X^T X + r I)^-1 X^T y\n",
    "    XTX = X.T @ X\n",
    "    if r and r > 0:\n",
    "        XTX = XTX + r * np.eye(XTX.shape[0])\n",
    "    w = np.linalg.inv(XTX) @ X.T @ y\n",
    "    return w"
   ]
  },
  {
   "cell_type": "code",
   "execution_count": 65,
   "id": "014471ce-f95d-4753-bda6-eedc8f48a838",
   "metadata": {},
   "outputs": [],
   "source": [
    "def predict(X, w):\n",
    "    return X @ w"
   ]
  },
  {
   "cell_type": "code",
   "execution_count": 66,
   "id": "9e7c2c77-a684-4abe-ba51-e59b4393f3b2",
   "metadata": {},
   "outputs": [],
   "source": [
    "def rmse(y_true, y_pred):\n",
    "    return float(np.sqrt(np.mean((y_true - y_pred) ** 2)))"
   ]
  },
  {
   "cell_type": "code",
   "execution_count": 67,
   "id": "0bc51a52-dd1b-426b-90ae-a61fa7d36cb0",
   "metadata": {},
   "outputs": [],
   "source": [
    "def evaluate_split(df_in, seed, r, fill='mean'):\n",
    "    df_train, df_val, df_test = train_val_test_split(df_in, seed)\n",
    "    df_train = fill_missing(df_train, fill)\n",
    "    df_val   = fill_missing(df_val, fill)\n",
    "    X_tr, y_tr = feature_matrix(df_train), target_vector(df_train)\n",
    "    X_v,  y_v  = feature_matrix(df_val),   target_vector(df_val)\n",
    "    w = linear_regression_fit(X_tr, y_tr, r=r)\n",
    "    return rmse(y_v, predict(X_v, w))"
   ]
  },
  {
   "cell_type": "code",
   "execution_count": 68,
   "id": "5905cdeb-8759-4d5c-bb07-7d6cb0a55076",
   "metadata": {},
   "outputs": [],
   "source": [
    "seed_for_q3 = 42\n",
    "rmse_mean = evaluate_split(df, seed=seed_for_q3, r=0.0, fill='mean')\n",
    "rmse_zero = evaluate_split(df, seed=seed_for_q3, r=0.0, fill='zero')"
   ]
  },
  {
   "cell_type": "code",
   "execution_count": 69,
   "id": "138ca547-aa8b-4e53-9e8b-5731843d5a26",
   "metadata": {},
   "outputs": [
    {
     "name": "stdout",
     "output_type": "stream",
     "text": [
      "Validation RMSE (mean-fill): 0.467\n",
      "Validation RMSE (zero-fill): 0.522\n",
      "[Q3] Better option: With mean\n"
     ]
    }
   ],
   "source": [
    "better = 'With mean' if rmse_mean <= rmse_zero else 'With 0'\n",
    "print(f\"Validation RMSE (mean-fill): {rmse_mean:.3f}\")\n",
    "print(f\"Validation RMSE (zero-fill): {rmse_zero:.3f}\")\n",
    "print(\"[Q3] Better option:\", better)"
   ]
  },
  {
   "cell_type": "code",
   "execution_count": 70,
   "id": "44e453ad-b601-470b-9640-e6ff01db1e32",
   "metadata": {},
   "outputs": [],
   "source": [
    "R_ALPHAS = [0, 0.01, 1, 10, 100]\n",
    "seed_for_q4 = 42"
   ]
  },
  {
   "cell_type": "code",
   "execution_count": 71,
   "id": "ebf33f68-d5ae-43d2-bbb9-9c5554d72061",
   "metadata": {},
   "outputs": [],
   "source": [
    "grid = []\n",
    "for r in R_ALPHAS:\n",
    "    s = evaluate_split(df, seed=seed_for_q4, r=r, fill='mean')\n",
    "    grid.append((r, s))"
   ]
  },
  {
   "cell_type": "code",
   "execution_count": 72,
   "id": "b9fbf5d9-c976-4d3c-bdcf-53bc3b28b666",
   "metadata": {},
   "outputs": [],
   "source": [
    "grid_sorted = sorted(grid, key=lambda t: t[1])\n",
    "best_r, best_val_rmse = grid_sorted[0]"
   ]
  },
  {
   "cell_type": "code",
   "execution_count": 73,
   "id": "016d3f41-44f2-4340-9d0d-12c7c68de48b",
   "metadata": {},
   "outputs": [
    {
     "name": "stdout",
     "output_type": "stream",
     "text": [
      "Validation RMSE by r:\n",
      "  r=0      rmse=0.467\n",
      "  r=0.01   rmse=0.467\n",
      "  r=1      rmse=0.473\n",
      "  r=10     rmse=0.473\n",
      "  r=100    rmse=0.474\n",
      "\n",
      "[Q4] Best r: 0.01\n"
     ]
    }
   ],
   "source": [
    "print(\"Validation RMSE by r:\")\n",
    "for r, s in grid:\n",
    "    print(f\"  r={r:<6} rmse={s:.3f}\")\n",
    "print(f\"\\n[Q4] Best r: {best_r}\")"
   ]
  },
  {
   "cell_type": "code",
   "execution_count": 74,
   "id": "556c7858-3485-43d9-9737-85099d634f7a",
   "metadata": {},
   "outputs": [],
   "source": [
    "seeds = list(range(10))\n",
    "scores = []\n",
    "for s in seeds:\n",
    "    val_rmse = evaluate_split(df, seed=s, r=best_r, fill='mean')\n",
    "    scores.append(val_rmse)"
   ]
  },
  {
   "cell_type": "code",
   "execution_count": 75,
   "id": "0e41f1b9-62b8-4d9f-9c55-247e2fec1809",
   "metadata": {},
   "outputs": [],
   "source": [
    "std_rmse = float(np.std(scores))\n",
    "options_q5 = np.array([0.001, 0.006, 0.060, 0.600])\n",
    "nearest_q5 = float(options_q5[np.argmin(np.abs(options_q5 - std_rmse))])"
   ]
  },
  {
   "cell_type": "code",
   "execution_count": 76,
   "id": "b4300b80-818d-4306-ab5a-00166f2e44f9",
   "metadata": {},
   "outputs": [
    {
     "name": "stdout",
     "output_type": "stream",
     "text": [
      "Seed -> RMSE:\n",
      "  0: 0.475\n",
      "  1: 0.462\n",
      "  2: 0.467\n",
      "  3: 0.461\n",
      "  4: 0.467\n",
      "  5: 0.471\n",
      "  6: 0.462\n",
      "  7: 0.457\n",
      "  8: 0.463\n",
      "  9: 0.474\n"
     ]
    }
   ],
   "source": [
    "print(\"Seed -> RMSE:\")\n",
    "for s, sc in zip(seeds, scores):\n",
    "    print(f\"  {s}: {sc:.3f}\")"
   ]
  },
  {
   "cell_type": "code",
   "execution_count": 77,
   "id": "9ec69f30-cd88-484f-a3c9-53cf0a72877a",
   "metadata": {},
   "outputs": [
    {
     "name": "stdout",
     "output_type": "stream",
     "text": [
      "\n",
      "[Q5] std(RMSE): 0.006\n",
      "[Q5] Nearest option: 0.006\n"
     ]
    }
   ],
   "source": [
    "print(\"\\n[Q5] std(RMSE):\", round(std_rmse, 3))\n",
    "print(\"[Q5] Nearest option:\", nearest_q5)"
   ]
  },
  {
   "cell_type": "code",
   "execution_count": 78,
   "id": "8ac68a72-8412-4207-bfbf-c0e36f53c81a",
   "metadata": {},
   "outputs": [],
   "source": [
    "def final_test_rmse(df_in, seed, r):\n",
    "    df_train, df_val, df_test = train_val_test_split(df_in, seed)\n",
    "    df_train_full = pd.concat([df_train, df_val], ignore_index=True)\n",
    "    df_train_full = fill_missing(df_train_full, 'mean')\n",
    "    df_test_f = fill_missing(df_test, 'mean')\n",
    "\n",
    "    X_trf, y_trf = feature_matrix(df_train_full), target_vector(df_train_full)\n",
    "    X_te,  y_te  = feature_matrix(df_test_f),      target_vector(df_test_f)\n",
    "\n",
    "    w = linear_regression_fit(X_trf, y_trf, r=r)\n",
    "    return rmse(y_te, predict(X_te, w))"
   ]
  },
  {
   "cell_type": "code",
   "execution_count": 79,
   "id": "4e6819d0-bc7a-453b-889f-a902b8f3bd2a",
   "metadata": {},
   "outputs": [],
   "source": [
    "rmse_test = final_test_rmse(df, seed=9, r=best_r)\n",
    "options_q6 = np.array([0.15, 0.515, 5.15, 51.5])\n",
    "nearest_q6 = float(options_q6[np.argmin(np.abs(options_q6 - rmse_test))])"
   ]
  },
  {
   "cell_type": "code",
   "execution_count": 80,
   "id": "6cfea59d-a9d8-4198-8ca0-d21272eee90c",
   "metadata": {},
   "outputs": [
    {
     "name": "stdout",
     "output_type": "stream",
     "text": [
      "[Q6] Test RMSE: 0.448\n",
      "[Q6] Nearest option: 0.515\n"
     ]
    }
   ],
   "source": [
    "print(\"[Q6] Test RMSE:\", round(rmse_test, 3))\n",
    "print(\"[Q6] Nearest option:\", nearest_q6)"
   ]
  },
  {
   "cell_type": "code",
   "execution_count": null,
   "id": "ec784438-0836-4deb-aa4d-99ff34036723",
   "metadata": {},
   "outputs": [],
   "source": []
  }
 ],
 "metadata": {
  "kernelspec": {
   "display_name": "Python 3 (ipykernel)",
   "language": "python",
   "name": "python3"
  },
  "language_info": {
   "codemirror_mode": {
    "name": "ipython",
    "version": 3
   },
   "file_extension": ".py",
   "mimetype": "text/x-python",
   "name": "python",
   "nbconvert_exporter": "python",
   "pygments_lexer": "ipython3",
   "version": "3.12.1"
  }
 },
 "nbformat": 4,
 "nbformat_minor": 5
}
